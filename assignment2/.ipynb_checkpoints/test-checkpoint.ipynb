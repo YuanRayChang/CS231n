{
 "cells": [
  {
   "cell_type": "code",
   "execution_count": 15,
   "metadata": {},
   "outputs": [
    {
     "name": "stdout",
     "output_type": "stream",
     "text": [
      "[[[[ 1  2  3  4]\n",
      "   [ 1  2  3  5]]\n",
      "\n",
      "  [[ 3  4  7  4]\n",
      "   [ 1  2  3  9]]\n",
      "\n",
      "  [[ 1  2  3  4]\n",
      "   [ 1  2  3  5]]\n",
      "\n",
      "  [[ 3  4 70  4]\n",
      "   [ 1  2  3 12]]]]\n",
      "(0, 3, 0, 2)\n",
      "7\n",
      "(1, 3)\n"
     ]
    }
   ],
   "source": [
    "import numpy as np\n",
    "a = np.array([[[[1,2,3,4],[1,2,3,5]], [[3,4,7,4],[1,2,3,9]],[[1,2,3,4],[1,2,3,5]], [[3,4,70,4],[1,2,3,12]]]])\n",
    "b = np.unravel_index(a.argmax(), a.shape)\n",
    "c = np.argmax(a[0,1,:,:])\n",
    "d = np.unravel_index(c, a[0,1,:,:].shape)\n",
    "\n",
    "print(a)\n",
    "print(b)\n",
    "print(c)\n",
    "print(d)"
   ]
  },
  {
   "cell_type": "code",
   "execution_count": 17,
   "metadata": {},
   "outputs": [
    {
     "name": "stdout",
     "output_type": "stream",
     "text": [
      "3\n"
     ]
    }
   ],
   "source": [
    "import numpy as np\n",
    "a = np.array([1,2,3])\n",
    "print(np.max(a))"
   ]
  }
 ],
 "metadata": {
  "kernelspec": {
   "display_name": "Python 3",
   "language": "python",
   "name": "python3"
  },
  "language_info": {
   "codemirror_mode": {
    "name": "ipython",
    "version": 3
   },
   "file_extension": ".py",
   "mimetype": "text/x-python",
   "name": "python",
   "nbconvert_exporter": "python",
   "pygments_lexer": "ipython3",
   "version": "3.6.5"
  }
 },
 "nbformat": 4,
 "nbformat_minor": 2
}
