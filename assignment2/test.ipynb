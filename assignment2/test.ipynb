{
 "cells": [
  {
   "cell_type": "code",
   "execution_count": 21,
   "metadata": {},
   "outputs": [
    {
     "name": "stdout",
     "output_type": "stream",
     "text": [
      "[[[0 0 0 0 0 0 0 0]\n",
      "  [0 1 1 2 2 3 4 0]\n",
      "  [0 1 1 2 2 3 4 0]\n",
      "  [0 1 1 2 2 3 4 0]\n",
      "  [0 0 0 0 0 0 0 0]]\n",
      "\n",
      " [[0 0 0 0 0 0 0 0]\n",
      "  [0 0 1 2 3 4 5 0]\n",
      "  [0 0 1 2 3 4 5 0]\n",
      "  [0 0 1 2 3 4 5 0]\n",
      "  [0 0 0 0 0 0 0 0]]\n",
      "\n",
      " [[0 0 0 0 0 0 0 0]\n",
      "  [0 1 1 2 2 3 4 0]\n",
      "  [0 1 1 2 2 3 4 0]\n",
      "  [0 1 1 2 2 3 4 0]\n",
      "  [0 0 0 0 0 0 0 0]]]\n"
     ]
    },
    {
     "data": {
      "text/plain": [
       "\"\\nprint( 'constant:  \\n' + str(np.pad(arr3D, ((0, 0), (1, 1), (2, 2)), 'constant')))\\nprint 'edge:  \\n' + str(np.pad(arr3D, ((0, 0), (1, 1), (2, 2)), 'edge'))\\nprint 'linear_ramp:  \\n' + str(np.pad(arr3D, ((0, 0), (1, 1), (2, 2)), 'linear_ramp'))\\nprint 'maximum:  \\n' + str(np.pad(arr3D, ((0, 0), (1, 1), (2, 2)), 'maximum'))\\nprint 'mean:  \\n' + str(np.pad(arr3D, ((0, 0), (1, 1), (2, 2)), 'mean'))\\nprint 'median:  \\n' + str(np.pad(arr3D, ((0, 0), (1, 1), (2, 2)), 'median'))\\nprint 'minimum:  \\n' + str(np.pad(arr3D, ((0, 0), (1, 1), (2, 2)), 'minimum'))\\nprint 'reflect:  \\n' + str(np.pad(arr3D, ((0, 0), (1, 1), (2, 2)), 'reflect'))\\nprint 'symmetric:  \\n' + str(np.pad(arr3D, ((0, 0), (1, 1), (2, 2)), 'symmetric'))\\nprint 'wrap:  \\n' + str(np.pad(arr3D, ((0, 0), (1, 1), (2, 2)), 'wrap'))\\n\""
      ]
     },
     "execution_count": 21,
     "metadata": {},
     "output_type": "execute_result"
    }
   ],
   "source": [
    "import numpy as np\n",
    "arr3D = np.array([[[1, 1, 2, 2, 3, 4], [1, 1, 2, 2, 3, 4], [1, 1, 2, 2, 3, 4]], \n",
    "                  [[0, 1, 2, 3, 4, 5], [0, 1, 2, 3, 4, 5], [0, 1, 2, 3, 4, 5]], \n",
    "                  [[1, 1, 2, 2, 3, 4], [1, 1, 2, 2, 3, 4], [1, 1, 2, 2, 3, 4]]])\n",
    "b = np.pad(arr3D, ((0, 0), (1, 1), (1, 1)), 'constant')     \n",
    "print(b)\n",
    "\"\"\"\n",
    "print( 'constant:  \\n' + str(np.pad(arr3D, ((0, 0), (1, 1), (2, 2)), 'constant')))\n",
    "print 'edge:  \\n' + str(np.pad(arr3D, ((0, 0), (1, 1), (2, 2)), 'edge'))\n",
    "print 'linear_ramp:  \\n' + str(np.pad(arr3D, ((0, 0), (1, 1), (2, 2)), 'linear_ramp'))\n",
    "print 'maximum:  \\n' + str(np.pad(arr3D, ((0, 0), (1, 1), (2, 2)), 'maximum'))\n",
    "print 'mean:  \\n' + str(np.pad(arr3D, ((0, 0), (1, 1), (2, 2)), 'mean'))\n",
    "print 'median:  \\n' + str(np.pad(arr3D, ((0, 0), (1, 1), (2, 2)), 'median'))\n",
    "print 'minimum:  \\n' + str(np.pad(arr3D, ((0, 0), (1, 1), (2, 2)), 'minimum'))\n",
    "print 'reflect:  \\n' + str(np.pad(arr3D, ((0, 0), (1, 1), (2, 2)), 'reflect'))\n",
    "print 'symmetric:  \\n' + str(np.pad(arr3D, ((0, 0), (1, 1), (2, 2)), 'symmetric'))\n",
    "print 'wrap:  \\n' + str(np.pad(arr3D, ((0, 0), (1, 1), (2, 2)), 'wrap'))\n",
    "\"\"\"\n"
   ]
  },
  {
   "cell_type": "code",
   "execution_count": 25,
   "metadata": {},
   "outputs": [
    {
     "name": "stdout",
     "output_type": "stream",
     "text": [
      "[1 2]\n"
     ]
    }
   ],
   "source": [
    "a=np.array([1,2,3,4,5])\n",
    "print(a[0:2])"
   ]
  },
  {
   "cell_type": "code",
   "execution_count": null,
   "metadata": {},
   "outputs": [],
   "source": []
  }
 ],
 "metadata": {
  "kernelspec": {
   "display_name": "Python 3",
   "language": "python",
   "name": "python3"
  },
  "language_info": {
   "codemirror_mode": {
    "name": "ipython",
    "version": 3
   },
   "file_extension": ".py",
   "mimetype": "text/x-python",
   "name": "python",
   "nbconvert_exporter": "python",
   "pygments_lexer": "ipython3",
   "version": "3.6.5"
  }
 },
 "nbformat": 4,
 "nbformat_minor": 2
}
