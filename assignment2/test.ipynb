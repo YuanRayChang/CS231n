{
 "cells": [
  {
   "cell_type": "code",
   "execution_count": 14,
   "metadata": {},
   "outputs": [
    {
     "name": "stdout",
     "output_type": "stream",
     "text": [
      "(2, 3)\n",
      "(3,)\n",
      "[[ 1  6 15]\n",
      " [ 1  6 35]]\n",
      "[[101 306 515]\n",
      " [101 306 535]]\n"
     ]
    }
   ],
   "source": [
    "import numpy as np\n",
    "a = np.array([[1,2,3],[1,2,7]])\n",
    "b = np.mean(a, axis=0)\n",
    "c = np.array([1, 3, 5])\n",
    "d = a*c\n",
    "e = np.array([100, 300, 500])\n",
    "f = d+e\n",
    "print(a.shape)\n",
    "print(c.shape)\n",
    "print(d)\n",
    "print(f)"
   ]
  },
  {
   "cell_type": "code",
   "execution_count": 12,
   "metadata": {},
   "outputs": [
    {
     "name": "stdout",
     "output_type": "stream",
     "text": [
      "[None, None, None, None, 1]\n"
     ]
    }
   ],
   "source": [
    "a=[None]*5\n",
    "a[4]=1\n",
    "print(a)"
   ]
  }
 ],
 "metadata": {
  "kernelspec": {
   "display_name": "Python 3",
   "language": "python",
   "name": "python3"
  },
  "language_info": {
   "codemirror_mode": {
    "name": "ipython",
    "version": 3
   },
   "file_extension": ".py",
   "mimetype": "text/x-python",
   "name": "python",
   "nbconvert_exporter": "python",
   "pygments_lexer": "ipython3",
   "version": "3.6.5"
  }
 },
 "nbformat": 4,
 "nbformat_minor": 2
}
