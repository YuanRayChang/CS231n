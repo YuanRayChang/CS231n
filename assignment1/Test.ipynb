{
 "cells": [
  {
   "cell_type": "code",
   "execution_count": 19,
   "metadata": {},
   "outputs": [
    {
     "name": "stdout",
     "output_type": "stream",
     "text": [
      "[[0 4 5]\n",
      " [1 6 7]\n",
      " [8 1 9]]\n",
      "[[0]\n",
      " [1]\n",
      " [2]]\n",
      "[[ 0  4  5]\n",
      " [ 0  5  6]\n",
      " [ 6 -1  7]]\n"
     ]
    }
   ],
   "source": [
    "import numpy as np\n",
    "a = np.array([[0,4,5],[1,6,7],[8,1,9]])\n",
    "b = np.array([[0],[1],[2]])\n",
    "print(a)\n",
    "print(b)\n",
    "c = a-b\n",
    "print(c)"
   ]
  },
  {
   "cell_type": "code",
   "execution_count": 17,
   "metadata": {},
   "outputs": [
    {
     "name": "stdout",
     "output_type": "stream",
     "text": [
      "[4, -3, 5, -7, -6, -8]\n",
      "[4 0 5 0 0 0]\n"
     ]
    }
   ],
   "source": [
    "a = [4, -3, 5, -7, -6, -8]\n",
    "max = np.maximum(0,a)\n",
    "print(a)\n",
    "print(max)\n"
   ]
  },
  {
   "cell_type": "code",
   "execution_count": null,
   "metadata": {},
   "outputs": [],
   "source": []
  }
 ],
 "metadata": {
  "kernelspec": {
   "display_name": "Python 3",
   "language": "python",
   "name": "python3"
  },
  "language_info": {
   "codemirror_mode": {
    "name": "ipython",
    "version": 3
   },
   "file_extension": ".py",
   "mimetype": "text/x-python",
   "name": "python",
   "nbconvert_exporter": "python",
   "pygments_lexer": "ipython3",
   "version": "3.6.5"
  }
 },
 "nbformat": 4,
 "nbformat_minor": 2
}
